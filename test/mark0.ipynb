{
 "cells": [
  {
   "cell_type": "code",
   "execution_count": 1,
   "metadata": {},
   "outputs": [],
   "source": [
    "import pandas as pd\n",
    "import matplotlib.pyplot as plt\n",
    "import numpy as np\n",
    "import csv\n",
    "# import openpyxl\n",
    "from openpyxl import load_workbook"
   ]
  },
  {
   "cell_type": "code",
   "execution_count": 4,
   "metadata": {},
   "outputs": [
    {
     "data": {
      "text/html": [
       "<div>\n",
       "<style scoped>\n",
       "    .dataframe tbody tr th:only-of-type {\n",
       "        vertical-align: middle;\n",
       "    }\n",
       "\n",
       "    .dataframe tbody tr th {\n",
       "        vertical-align: top;\n",
       "    }\n",
       "\n",
       "    .dataframe thead th {\n",
       "        text-align: right;\n",
       "    }\n",
       "</style>\n",
       "<table border=\"1\" class=\"dataframe\">\n",
       "  <thead>\n",
       "    <tr style=\"text-align: right;\">\n",
       "      <th></th>\n",
       "      <th>text</th>\n",
       "      <th>task1</th>\n",
       "    </tr>\n",
       "  </thead>\n",
       "  <tbody>\n",
       "    <tr>\n",
       "      <th>0</th>\n",
       "      <td>1 आदमीं को मारने पर गोडसे आतंकी हो सके है तो\\n...</td>\n",
       "      <td>HATE</td>\n",
       "    </tr>\n",
       "    <tr>\n",
       "      <th>1</th>\n",
       "      <td>RT @Vishesh4: @jawaharyadavbjp जवाहर यादव, अगर...</td>\n",
       "      <td>NOT_HATE</td>\n",
       "    </tr>\n",
       "    <tr>\n",
       "      <th>2</th>\n",
       "      <td>RT @FunKeyBaat: #भगवा वस्त्र पहन कर मतदान नही ...</td>\n",
       "      <td>HATE</td>\n",
       "    </tr>\n",
       "    <tr>\n",
       "      <th>3</th>\n",
       "      <td>Yey nina khothani labafazi benu phambili Finis...</td>\n",
       "      <td>HATE</td>\n",
       "    </tr>\n",
       "    <tr>\n",
       "      <th>4</th>\n",
       "      <td>RT @Rajeshbhanjan2: जब भी कोई सिकुलर कोंग्रेसी...</td>\n",
       "      <td>HATE</td>\n",
       "    </tr>\n",
       "  </tbody>\n",
       "</table>\n",
       "</div>"
      ],
      "text/plain": [
       "                                                text     task1\n",
       "0  1 आदमीं को मारने पर गोडसे आतंकी हो सके है तो\\n...      HATE\n",
       "1  RT @Vishesh4: @jawaharyadavbjp जवाहर यादव, अगर...  NOT_HATE\n",
       "2  RT @FunKeyBaat: #भगवा वस्त्र पहन कर मतदान नही ...      HATE\n",
       "3  Yey nina khothani labafazi benu phambili Finis...      HATE\n",
       "4  RT @Rajeshbhanjan2: जब भी कोई सिकुलर कोंग्रेसी...      HATE"
      ]
     },
     "execution_count": 4,
     "metadata": {},
     "output_type": "execute_result"
    }
   ],
   "source": [
    "\n",
    "wb = load_workbook(\"datasets/hindi.xlsx\")\n",
    "sheet = wb.active\n",
    "col = csv.writer(open(\"tt.csv\", 'w', newline=\"\"))\n",
    "for r in sheet.rows:\n",
    "    col.writerow([cell.value for cell in r])\n",
    "  \n",
    "df = pd.DataFrame(pd.read_csv(\"tt.csv\"))\n",
    "df.to_csv(\"datasets/hindi.csv\", sep=\",\")\n",
    "df.head(5)"
   ]
  },
  {
   "cell_type": "code",
   "execution_count": 8,
   "metadata": {},
   "outputs": [
    {
     "data": {
      "text/html": [
       "<div>\n",
       "<style scoped>\n",
       "    .dataframe tbody tr th:only-of-type {\n",
       "        vertical-align: middle;\n",
       "    }\n",
       "\n",
       "    .dataframe tbody tr th {\n",
       "        vertical-align: top;\n",
       "    }\n",
       "\n",
       "    .dataframe thead th {\n",
       "        text-align: right;\n",
       "    }\n",
       "</style>\n",
       "<table border=\"1\" class=\"dataframe\">\n",
       "  <thead>\n",
       "    <tr style=\"text-align: right;\">\n",
       "      <th></th>\n",
       "      <th>text</th>\n",
       "      <th>task1</th>\n",
       "      <th>task2</th>\n",
       "    </tr>\n",
       "  </thead>\n",
       "  <tbody>\n",
       "    <tr>\n",
       "      <th>0</th>\n",
       "      <td>1 आदमीं को मारने पर गोडसे आतंकी हो सके है तो\\n...</td>\n",
       "      <td>1</td>\n",
       "      <td>1</td>\n",
       "    </tr>\n",
       "    <tr>\n",
       "      <th>1</th>\n",
       "      <td>RT @Vishesh4: @jawaharyadavbjp जवाहर यादव, अगर...</td>\n",
       "      <td>0</td>\n",
       "      <td>0</td>\n",
       "    </tr>\n",
       "    <tr>\n",
       "      <th>2</th>\n",
       "      <td>RT @FunKeyBaat: #भगवा वस्त्र पहन कर मतदान नही ...</td>\n",
       "      <td>1</td>\n",
       "      <td>1</td>\n",
       "    </tr>\n",
       "    <tr>\n",
       "      <th>3</th>\n",
       "      <td>Yey nina khothani labafazi benu phambili Finis...</td>\n",
       "      <td>1</td>\n",
       "      <td>1</td>\n",
       "    </tr>\n",
       "    <tr>\n",
       "      <th>4</th>\n",
       "      <td>RT @Rajeshbhanjan2: जब भी कोई सिकुलर कोंग्रेसी...</td>\n",
       "      <td>1</td>\n",
       "      <td>1</td>\n",
       "    </tr>\n",
       "  </tbody>\n",
       "</table>\n",
       "</div>"
      ],
      "text/plain": [
       "                                                text  task1  task2\n",
       "0  1 आदमीं को मारने पर गोडसे आतंकी हो सके है तो\\n...      1      1\n",
       "1  RT @Vishesh4: @jawaharyadavbjp जवाहर यादव, अगर...      0      0\n",
       "2  RT @FunKeyBaat: #भगवा वस्त्र पहन कर मतदान नही ...      1      1\n",
       "3  Yey nina khothani labafazi benu phambili Finis...      1      1\n",
       "4  RT @Rajeshbhanjan2: जब भी कोई सिकुलर कोंग्रेसी...      1      1"
      ]
     },
     "execution_count": 8,
     "metadata": {},
     "output_type": "execute_result"
    }
   ],
   "source": [
    "df['task1'] = df['task1'].map({'HATE':1, 'NOT_HATE':0})\n",
    "df.head()"
   ]
  },
  {
   "cell_type": "code",
   "execution_count": 10,
   "metadata": {},
   "outputs": [
    {
     "name": "stdout",
     "output_type": "stream",
     "text": [
      "{'उसकी', 'किया', 'दो', 'जा', 'अभि', 'एस', 'गए', 'बही', 'एसे', 'दवारा', 'मेरे', 'कोनसा', 'नीचे', 'बहि', 'पुरा', 'कितना', 'कि', 'रवासा', 'सभि', 'ये', 'तब', 'हुआ', 'यिह', 'हुई', 'ले', 'कोन', 'न', 'मेरी', 'अपनि', 'तिसे', 'यह', 'पे', 'जिंहों', 'कौन', 'वगेरह', 'कोई', 'अनुसार', 'अंदर', 'कई', 'उंहों', 'किसी', 'ऱ्वासा', 'वग़ैरह', 'मैं', 'हुअ', 'या', 'वे', 'मगर', 'यही', 'होना', 'वाले', 'तरह', 'इसमें', 'इसके', 'जेसा', 'का', 'और', 'किसि', 'होती', 'तेरी', 'साबुत', 'भी', 'हैं', 'कइ', 'लिये', 'निहायत', 'जिसे', 'इन ', 'जो', 'तो', 'कहते', 'करना', 'से', 'रखें', 'रह', 'क्योंकि', 'किस', 'ऐसा', 'जैसा', 'जिंहें', 'की', 'था', 'द्वारा', 'करने', 'घर', 'किंहों', 'अत', 'जिन', 'थी', 'जितना', 'अपने', 'तेरा', 'उसको', 'क्या', 'यहां', 'है', 'उनकी', 'वहां', 'उन्हों', 'हो', 'अपना', 'कुल', 'किन्हें', 'सब', 'पहले', 'कुछ', 'देकर', 'साथ', 'वुह ', 'इसे', 'दुसरे', 'ऐसे', 'दिया', 'हुइ', 'सबसे', 'उंहिं', 'सकता', 'में', 'किन्हों', 'तेरे', 'नहीं', 'किर', 'काफ़ी', 'बाद', 'करते', 'उसका', 'उन', 'इत्यादि', 'बनि', 'इन्हें', 'होते', 'ही', 'कोइ', 'किसे', 'व', 'इसि', 'इसकि', 'होति', 'तुम्हारे', 'परन्तु', 'किंहें', 'ने', \"बात' \", 'साम्हने', 'जीधर', 'वुह', 'इन्हीं', 'आदि', 'जिधर', 'उस', 'जिन्हों', 'मुझे', 'लिए', 'करें', 'वह ', 'दुसरा', 'तिस', 'अर्थात', 'गया', 'जहाँ', 'तिंहें', 'अपनी', 'उसी', 'वहाँ', 'जिस', 'वहीं', 'हम', 'उंहें', 'इस', 'थि', 'दबारा', 'इन', 'उन्हीं', 'उन्होंने', 'तिंहों', 'पर', 'ओर', 'हें', 'उसि', 'हे', 'भीतर', 'जैसे', 'वर्ग', 'ना', 'इंहों', 'सो', 'जब', 'तिन्हों', 'रहे', 'उनको', 'कारण', 'भि', 'मानो', 'पास', 'बहुत', 'कौनसा', 'उसने', 'साभ', 'वहिं', 'जहां', 'को', 'जेसे', 'वह', 'संग', 'होने', 'नहिं', 'इंहें', 'होता', 'यदि', 'सकते', 'उनके', 'हूं', 'मुझ', 'अभी', 'जिन्हें', 'अप', 'के', 'इंहिं', 'इसका', 'तुम', 'इन्हों', 'अदि', 'उनकि', 'इसलिये', 'एक', 'पूरा', 'आप', 'इनका', 'उन्ह', 'हि', 'बाला', 'पर  ', 'बिलकुल', 'यिह ', 'तू', 'उन्हें', \"इतयादि' ,'यहाँ\", 'कह', 'करता', 'तक', 'फिर', 'सारा', 'काफि', 'हुए', 'सभी', 'कहता', 'निचे', 'थे', 'दे', 'एवं', 'लेकिन', 'इसकी', 'यहि', 'उसे', 'उनका', 'रहा', 'उसके', 'कहा', 'बनी', 'मे', 'तिन', 'वरग', 'कर', 'दूसरे', 'तुझे', 'तिन्हें', 'भितर', 'इसी'}\n"
     ]
    }
   ],
   "source": [
    "import collections\n",
    "\n",
    "with open(\"datasets/Hindi_StopWords.txt\",encoding='utf-8') as f:\n",
    "    stopword= f.read().strip('\\ufeff')\n",
    "stopword = stopword.split(\", \")\n",
    "stopword = [i.strip(\"'\") for i in stopword]\n",
    "\n",
    "stopwords = set(stopword)\n",
    "print(stopwords)"
   ]
  },
  {
   "cell_type": "code",
   "execution_count": null,
   "metadata": {},
   "outputs": [],
   "source": []
  },
  {
   "cell_type": "code",
   "execution_count": null,
   "metadata": {},
   "outputs": [],
   "source": []
  }
 ],
 "metadata": {
  "kernelspec": {
   "display_name": "Python 3",
   "language": "python",
   "name": "python3"
  },
  "language_info": {
   "codemirror_mode": {
    "name": "ipython",
    "version": 3
   },
   "file_extension": ".py",
   "mimetype": "text/x-python",
   "name": "python",
   "nbconvert_exporter": "python",
   "pygments_lexer": "ipython3",
   "version": "3.6.9"
  }
 },
 "nbformat": 4,
 "nbformat_minor": 4
}
